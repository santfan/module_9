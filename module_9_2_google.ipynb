{
  "nbformat": 4,
  "nbformat_minor": 0,
  "metadata": {
    "colab": {
      "provenance": [],
      "authorship_tag": "ABX9TyOIyoTuJv25E+sE8pnvM+/V",
      "include_colab_link": true
    },
    "kernelspec": {
      "name": "python3",
      "display_name": "Python 3"
    },
    "language_info": {
      "name": "python"
    }
  },
  "cells": [
    {
      "cell_type": "markdown",
      "metadata": {
        "id": "view-in-github",
        "colab_type": "text"
      },
      "source": [
        "<a href=\"https://colab.research.google.com/github/santfan/module_9/blob/main/module_9_2_google.ipynb\" target=\"_parent\"><img src=\"https://colab.research.google.com/assets/colab-badge.svg\" alt=\"Open In Colab\"/></a>"
      ]
    },
    {
      "cell_type": "code",
      "source": [
        "# Согласно условию имеем два списка\n",
        "first_strings = ['Elon', 'Musk', 'Programmer', 'Monitors', 'Variable']\n",
        "second_strings = ['Task', 'Git', 'Comprehension', 'Java', 'Computer', 'Assembler']"
      ],
      "metadata": {
        "id": "BMJVEn8wwHjR"
      },
      "execution_count": 1,
      "outputs": []
    },
    {
      "cell_type": "code",
      "source": [
        "# Используя списочные выражения выполним задание\n",
        "# Длина элемента не менее 5\n",
        "print([len(x) for x in first_strings if len(x) >= 5])"
      ],
      "metadata": {
        "colab": {
          "base_uri": "https://localhost:8080/"
        },
        "id": "R23e8OzWxtNb",
        "outputId": "d7a0bc59-9159-4a25-ef81-e314da84096b"
      },
      "execution_count": 2,
      "outputs": [
        {
          "output_type": "stream",
          "name": "stdout",
          "text": [
            "[10, 8, 8]\n"
          ]
        }
      ]
    },
    {
      "cell_type": "code",
      "source": [
        "# Из двух списков отберем эелементы одинаковой длинны\n",
        "second_result = {(x, y) for x in first_strings for y in second_strings if len(x) == len(y)}\n",
        "print(second_result)"
      ],
      "metadata": {
        "colab": {
          "base_uri": "https://localhost:8080/"
        },
        "id": "DCNiyerMx5rh",
        "outputId": "c9046f59-0bf7-4605-f37f-37928631845a"
      },
      "execution_count": 3,
      "outputs": [
        {
          "output_type": "stream",
          "name": "stdout",
          "text": [
            "{('Musk', 'Java'), ('Musk', 'Task'), ('Variable', 'Computer'), ('Monitors', 'Computer'), ('Elon', 'Java'), ('Elon', 'Task')}\n"
          ]
        }
      ]
    },
    {
      "cell_type": "code",
      "source": [
        "# Из объедененного списка отберем те элементы длинна которых кратна 2\n",
        "third_result = {x: len(x) for x in (first_strings + second_strings) if not len(x) % 2}\n",
        "print(third_result)"
      ],
      "metadata": {
        "colab": {
          "base_uri": "https://localhost:8080/"
        },
        "id": "UPYWxClzy3pe",
        "outputId": "4b485cab-ac94-4b89-821e-86f37f9f8e04"
      },
      "execution_count": 4,
      "outputs": [
        {
          "output_type": "stream",
          "name": "stdout",
          "text": [
            "{'Elon': 4, 'Musk': 4, 'Programmer': 10, 'Monitors': 8, 'Variable': 8, 'Task': 4, 'Java': 4, 'Computer': 8}\n"
          ]
        }
      ]
    },
    {
      "cell_type": "code",
      "source": [],
      "metadata": {
        "id": "RNxhfaaJKEIC"
      },
      "execution_count": null,
      "outputs": []
    }
  ]
}