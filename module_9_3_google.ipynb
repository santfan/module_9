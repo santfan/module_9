{
  "nbformat": 4,
  "nbformat_minor": 0,
  "metadata": {
    "colab": {
      "provenance": [],
      "authorship_tag": "ABX9TyMILz8C1arSUdbxSVqYsGFe",
      "include_colab_link": true
    },
    "kernelspec": {
      "name": "python3",
      "display_name": "Python 3"
    },
    "language_info": {
      "name": "python"
    }
  },
  "cells": [
    {
      "cell_type": "markdown",
      "metadata": {
        "id": "view-in-github",
        "colab_type": "text"
      },
      "source": [
        "<a href=\"https://colab.research.google.com/github/santfan/module_9/blob/main/module_9_3_google.ipynb\" target=\"_parent\"><img src=\"https://colab.research.google.com/assets/colab-badge.svg\" alt=\"Open In Colab\"/></a>"
      ]
    },
    {
      "cell_type": "code",
      "execution_count": 4,
      "metadata": {
        "id": "JVQ-T0A4xCt7"
      },
      "outputs": [],
      "source": [
        "# Имеем два списка\n",
        "first = ['Strings', 'Student', 'Computers']\n",
        "second = ['Строка', 'Урбан', 'Компьютер']"
      ]
    },
    {
      "cell_type": "code",
      "source": [
        "# Как работает генераторная сборка zip()\n",
        "print(list(zip(first, second)))"
      ],
      "metadata": {
        "colab": {
          "base_uri": "https://localhost:8080/"
        },
        "id": "ECgrWrvdxMkP",
        "outputId": "07fe9c48-4a1b-424a-a93e-4aa276f6a96d"
      },
      "execution_count": 5,
      "outputs": [
        {
          "output_type": "stream",
          "name": "stdout",
          "text": [
            "[('Strings', 'Строка'), ('Student', 'Урбан'), ('Computers', 'Компьютер')]\n"
          ]
        }
      ]
    },
    {
      "cell_type": "code",
      "source": [
        "# Сборка zip() формирует список элементов двух списков попарно\n",
        "# создадим генераторную сборку,\n",
        "# которая высчитывает разницу длин элементов, если эти длины не равны\n",
        "try:\n",
        "  first_result = [(len(i[0]) - len(i[1])) for i in zip(first, second) if len(i[0]) != len(i[1])]\n",
        "  print(first_result)\n",
        "# Отловим ошибки если некорректные типы данных в списках\n",
        "except TypeError as ex:\n",
        "  print(f'Списки first и second содержат не корректные данные {ex.args}')"
      ],
      "metadata": {
        "colab": {
          "base_uri": "https://localhost:8080/"
        },
        "id": "a2hdtGWTxYuU",
        "outputId": "57087566-a1e0-488a-99ea-4e131c569302"
      },
      "execution_count": 6,
      "outputs": [
        {
          "output_type": "stream",
          "name": "stdout",
          "text": [
            "[1, 2]\n"
          ]
        }
      ]
    },
    {
      "cell_type": "code",
      "source": [
        "# Создадим генераторную сборку, которая попарно сравнивает длины элеметов списков first и second\n",
        "try:\n",
        "  second_result = [len(first[i]) == len(second[i]) for i in range(len(second))]\n",
        "  print(second_result)\n",
        "# Отловим ошибки если некорректные типы данных или разные длины в списках\n",
        "except IndexError:\n",
        "  print('Списки first и second имеют разные длины')\n",
        "except TypeError as ex:\n",
        "  print(f'Списки first и second содержат не корректные данные {ex.args}')"
      ],
      "metadata": {
        "colab": {
          "base_uri": "https://localhost:8080/"
        },
        "id": "nsyR-q6XzNUz",
        "outputId": "c51554a3-2566-44d9-d8ef-b559cfcd4e48"
      },
      "execution_count": 7,
      "outputs": [
        {
          "output_type": "stream",
          "name": "stdout",
          "text": [
            "[False, False, True]\n"
          ]
        }
      ]
    },
    {
      "cell_type": "code",
      "source": [],
      "metadata": {
        "id": "TFd1LeJa2z57"
      },
      "execution_count": null,
      "outputs": []
    }
  ]
}