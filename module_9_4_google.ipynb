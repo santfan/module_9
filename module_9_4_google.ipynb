{
  "nbformat": 4,
  "nbformat_minor": 0,
  "metadata": {
    "colab": {
      "provenance": [],
      "collapsed_sections": [
        "-5-7zK9Ji3sC"
      ],
      "authorship_tag": "ABX9TyM7z4Is2JtJgKp253CAQsEC",
      "include_colab_link": true
    },
    "kernelspec": {
      "name": "python3",
      "display_name": "Python 3"
    },
    "language_info": {
      "name": "python"
    }
  },
  "cells": [
    {
      "cell_type": "markdown",
      "metadata": {
        "id": "view-in-github",
        "colab_type": "text"
      },
      "source": [
        "<a href=\"https://colab.research.google.com/github/santfan/module_9/blob/main/module_9_4_google.ipynb\" target=\"_parent\"><img src=\"https://colab.research.google.com/assets/colab-badge.svg\" alt=\"Open In Colab\"/></a>"
      ]
    },
    {
      "cell_type": "markdown",
      "source": [
        "# Проработка лекции"
      ],
      "metadata": {
        "id": "-5-7zK9Ji3sC"
      }
    },
    {
      "cell_type": "code",
      "execution_count": null,
      "metadata": {
        "colab": {
          "base_uri": "https://localhost:8080/"
        },
        "id": "f708uL1n_Fsf",
        "outputId": "3a11d47c-36e1-48ac-a42e-7d7c58167a40"
      },
      "outputs": [
        {
          "output_type": "stream",
          "name": "stdout",
          "text": [
            "52\n"
          ]
        }
      ],
      "source": [
        "result = lambda x: x + 10\n",
        "print(result(x = 42))"
      ]
    },
    {
      "cell_type": "code",
      "source": [
        "my_numbers = [1, 2, 3, 4, 5]\n",
        "result = map(lambda x: x + 10, my_numbers)\n",
        "print(list(result))"
      ],
      "metadata": {
        "colab": {
          "base_uri": "https://localhost:8080/"
        },
        "id": "4YMiW3UK_iHW",
        "outputId": "f3d5f9fd-f027-4f40-f127-5cbf422100d6"
      },
      "execution_count": null,
      "outputs": [
        {
          "output_type": "stream",
          "name": "stdout",
          "text": [
            "[11, 12, 13, 14, 15]\n"
          ]
        }
      ]
    },
    {
      "cell_type": "code",
      "source": [
        "my_numbers = [1, 2, 3, 4, 5]\n",
        "they_numbers = [2, 4, 6, 8, 10]\n",
        "result = map(lambda x, y: x + y, my_numbers, they_numbers)\n",
        "print(list(result))"
      ],
      "metadata": {
        "colab": {
          "base_uri": "https://localhost:8080/"
        },
        "id": "_H0CJP1hAFBM",
        "outputId": "91b41cef-5f3b-4d03-8fcf-7a0b358fd598"
      },
      "execution_count": null,
      "outputs": [
        {
          "output_type": "stream",
          "name": "stdout",
          "text": [
            "[3, 6, 9, 12, 15]\n"
          ]
        }
      ]
    },
    {
      "cell_type": "code",
      "source": [
        "def get_multiplier_v1(n):\n",
        "  if n == 2:\n",
        "    def multiplier(x):\n",
        "      return x * 2\n",
        "  elif n == 3:\n",
        "    def multiplier(x):\n",
        "      return x * 3\n",
        "  else:\n",
        "    raise Exception('Могу только на 2 или на 3')\n",
        "  return multiplier\n"
      ],
      "metadata": {
        "id": "jHmfOWPZCEcm"
      },
      "execution_count": null,
      "outputs": []
    },
    {
      "cell_type": "code",
      "source": [
        "my_numbers = [1, 2, 3, 4, 5]\n",
        "by_2 = get_multiplier_v1(2)\n",
        "by_3 = get_multiplier_v1(3)\n",
        "#by_4 = get_multiplier_v1(4)\n",
        "result = map(by_2, my_numbers)\n",
        "print(list(result))\n",
        "result = map(by_3, my_numbers)\n",
        "print(list(result))\n",
        "#result = map(by_4, my_numbers)\n",
        "#print(list(result))"
      ],
      "metadata": {
        "colab": {
          "base_uri": "https://localhost:8080/"
        },
        "id": "leUhEgthGd82",
        "outputId": "766efb3d-c25d-4626-c0b4-ef099523a8a6"
      },
      "execution_count": null,
      "outputs": [
        {
          "output_type": "stream",
          "name": "stdout",
          "text": [
            "[2, 4, 6, 8, 10]\n",
            "[3, 6, 9, 12, 15]\n"
          ]
        }
      ]
    },
    {
      "cell_type": "code",
      "source": [
        "def get_multiplier_v2(n):\n",
        "  def multiplier(x):\n",
        "    return x * n\n",
        "  return multiplier"
      ],
      "metadata": {
        "id": "f3j4UI1NIGaN"
      },
      "execution_count": null,
      "outputs": []
    },
    {
      "cell_type": "code",
      "source": [
        "by_5 = get_multiplier_v2(5)\n",
        "print(by_5(x = 2))"
      ],
      "metadata": {
        "colab": {
          "base_uri": "https://localhost:8080/"
        },
        "id": "KgAx3TR8Kwz9",
        "outputId": "b2c93853-f56d-4c06-a5d2-30e6962f3f2a"
      },
      "execution_count": null,
      "outputs": [
        {
          "output_type": "stream",
          "name": "stdout",
          "text": [
            "10\n"
          ]
        }
      ]
    },
    {
      "cell_type": "code",
      "source": [
        "my_numbers = [2, 7, 3, 5]\n",
        "by_10 = get_multiplier_v2(10)\n",
        "by_100 = get_multiplier_v2(100)\n",
        "print(list(map(by_10, my_numbers)))\n",
        "print(list(map(by_100, my_numbers)))"
      ],
      "metadata": {
        "colab": {
          "base_uri": "https://localhost:8080/"
        },
        "id": "U4vQJKxRK-TV",
        "outputId": "387b884d-46d7-43c9-f3da-3c92a3d8a467"
      },
      "execution_count": null,
      "outputs": [
        {
          "output_type": "stream",
          "name": "stdout",
          "text": [
            "[20, 70, 30, 50]\n",
            "[200, 700, 300, 500]\n"
          ]
        }
      ]
    },
    {
      "cell_type": "code",
      "source": [
        "from pprint import pprint"
      ],
      "metadata": {
        "id": "udMDowt-Mbbm"
      },
      "execution_count": null,
      "outputs": []
    },
    {
      "cell_type": "code",
      "source": [
        "def matrix(some_list):\n",
        "  def multiply_column(x):\n",
        "    res = []\n",
        "    for elem in some_list:\n",
        "      res.append(elem * x)\n",
        "    return res\n",
        "  return multiply_column"
      ],
      "metadata": {
        "id": "abQACUMATr3U"
      },
      "execution_count": null,
      "outputs": []
    },
    {
      "cell_type": "code",
      "source": [
        "my_numbers = [1, 3, 7, 4, 5]\n",
        "they_numbers = [2, 6, 9, 8, 10]"
      ],
      "metadata": {
        "id": "UOlrVBbsUWZq"
      },
      "execution_count": null,
      "outputs": []
    },
    {
      "cell_type": "code",
      "source": [
        "matrix_on_my_numbers = matrix(my_numbers)"
      ],
      "metadata": {
        "id": "2hNCFDKGU5r4"
      },
      "execution_count": null,
      "outputs": []
    },
    {
      "cell_type": "code",
      "source": [
        "result = map(matrix_on_my_numbers, they_numbers)\n",
        "pprint(list(result))"
      ],
      "metadata": {
        "colab": {
          "base_uri": "https://localhost:8080/"
        },
        "id": "XNAI9enZVFi9",
        "outputId": "d02ea441-4058-412c-f9af-b919daa018c3"
      },
      "execution_count": null,
      "outputs": [
        {
          "output_type": "stream",
          "name": "stdout",
          "text": [
            "[[2, 6, 14, 8, 10],\n",
            " [6, 18, 42, 24, 30],\n",
            " [9, 27, 63, 36, 45],\n",
            " [8, 24, 56, 32, 40],\n",
            " [10, 30, 70, 40, 50]]\n"
          ]
        }
      ]
    },
    {
      "cell_type": "code",
      "source": [
        "# создание функции на лету с использованием ООП\n",
        "class Multiplier:\n",
        "  def __init__(self, n):\n",
        "    self.n = n\n",
        "\n",
        "  def __call__(self, x):\n",
        "    return x * self.n"
      ],
      "metadata": {
        "id": "TJFnNneQVYXM"
      },
      "execution_count": null,
      "outputs": []
    },
    {
      "cell_type": "code",
      "source": [
        "by_100500 = Multiplier(10050)"
      ],
      "metadata": {
        "id": "-ap2MO9DXLaW"
      },
      "execution_count": null,
      "outputs": []
    },
    {
      "cell_type": "code",
      "source": [
        "result = by_100500(x = 42)\n",
        "print(result)"
      ],
      "metadata": {
        "colab": {
          "base_uri": "https://localhost:8080/"
        },
        "id": "45x0bDQ3XsMQ",
        "outputId": "6497d1d1-187b-4c5c-f3db-66b4a7f71169"
      },
      "execution_count": null,
      "outputs": [
        {
          "output_type": "stream",
          "name": "stdout",
          "text": [
            "422100\n"
          ]
        }
      ]
    },
    {
      "cell_type": "code",
      "source": [
        "my_numbers = [1, 3, 7, 4, 5]\n",
        "result = map(by_100500, my_numbers)\n",
        "print(list(result))"
      ],
      "metadata": {
        "colab": {
          "base_uri": "https://localhost:8080/"
        },
        "id": "kWUxRuE9YBqH",
        "outputId": "8ee2e402-3485-4959-a7f9-cc7cd5f5cf54"
      },
      "execution_count": null,
      "outputs": [
        {
          "output_type": "stream",
          "name": "stdout",
          "text": [
            "[10050, 30150, 70350, 40200, 50250]\n"
          ]
        }
      ]
    },
    {
      "cell_type": "markdown",
      "source": [
        "# Домашняя работа\n"
      ],
      "metadata": {
        "id": "AWTQts1AjqUB"
      }
    },
    {
      "cell_type": "code",
      "source": [
        "first = 'Мама мыла раму'\n",
        "second = 'Рамена мало было'"
      ],
      "metadata": {
        "id": "blAxFvrGYgjy"
      },
      "execution_count": null,
      "outputs": []
    },
    {
      "cell_type": "code",
      "source": [
        "print(list(map(lambda x, y: x == y, first, second)))"
      ],
      "metadata": {
        "colab": {
          "base_uri": "https://localhost:8080/"
        },
        "id": "YaZbAY96ZMJH",
        "outputId": "0f5b4a25-1e5c-4484-c2b0-ea332186d89f"
      },
      "execution_count": null,
      "outputs": [
        {
          "output_type": "stream",
          "name": "stdout",
          "text": [
            "[False, True, True, False, False, False, False, False, True, False, False, False, False, False]\n"
          ]
        }
      ]
    },
    {
      "cell_type": "code",
      "source": [
        "def get_advanced_writer(file_name):\n",
        "\n",
        "  def write_everything(*data_set):\n",
        "\n",
        "    with open('example.txt', 'w') as flie:\n",
        "      for elem in data_set:\n",
        "        flie.write(str(elem) + '\\n')\n",
        "\n",
        "  return write_everything"
      ],
      "metadata": {
        "id": "y9SmKOtyZs6Y"
      },
      "execution_count": null,
      "outputs": []
    },
    {
      "cell_type": "code",
      "source": [
        "write = get_advanced_writer('example.txt')\n",
        "write('Это строчка', ['А', 'это', 'уже', 'число', 5, 'в', 'списке'])"
      ],
      "metadata": {
        "id": "FczqMN6wdQW2"
      },
      "execution_count": null,
      "outputs": []
    },
    {
      "cell_type": "code",
      "source": [
        "from random import choice"
      ],
      "metadata": {
        "id": "qMJmMTw2da5-"
      },
      "execution_count": null,
      "outputs": []
    },
    {
      "cell_type": "code",
      "source": [
        "class MysticBall:\n",
        "\n",
        "  def __init__(self, *words):\n",
        "    self.words = words\n",
        "\n",
        "  def __call__(self):\n",
        "    return choice(self.words)"
      ],
      "metadata": {
        "id": "77iSjj6QeFcE"
      },
      "execution_count": null,
      "outputs": []
    },
    {
      "cell_type": "code",
      "source": [
        "first_ball = MysticBall('Да', 'Нет', 'Наверное')\n",
        "print(first_ball())\n",
        "print(first_ball())\n",
        "print(first_ball())"
      ],
      "metadata": {
        "colab": {
          "base_uri": "https://localhost:8080/"
        },
        "id": "YHOqgut_fQAw",
        "outputId": "f077958c-4e76-4b10-f937-21ccddc4c3dc"
      },
      "execution_count": null,
      "outputs": [
        {
          "output_type": "stream",
          "name": "stdout",
          "text": [
            "Нет\n",
            "Наверное\n",
            "Да\n"
          ]
        }
      ]
    }
  ]
}