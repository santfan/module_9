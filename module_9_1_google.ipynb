{
  "nbformat": 4,
  "nbformat_minor": 0,
  "metadata": {
    "colab": {
      "provenance": [],
      "authorship_tag": "ABX9TyNrfvfHIVbleLgEGV2Y2zJO",
      "include_colab_link": true
    },
    "kernelspec": {
      "name": "python3",
      "display_name": "Python 3"
    },
    "language_info": {
      "name": "python"
    }
  },
  "cells": [
    {
      "cell_type": "markdown",
      "metadata": {
        "id": "view-in-github",
        "colab_type": "text"
      },
      "source": [
        "<a href=\"https://colab.research.google.com/github/santfan/module_9/blob/main/module_9_1_google.ipynb\" target=\"_parent\"><img src=\"https://colab.research.google.com/assets/colab-badge.svg\" alt=\"Open In Colab\"/></a>"
      ]
    },
    {
      "cell_type": "code",
      "execution_count": 1,
      "metadata": {
        "id": "bhYanRO9ry89"
      },
      "outputs": [],
      "source": [
        "# Объявим функцию которая принимает список и некоторое количество функций\n",
        "def apply_all_func(int_list, *functions):\n",
        "  # создадим пустой словарь\n",
        "  result = {}\n",
        "  # Пробежим по переданным функциям\n",
        "  for function in functions:\n",
        "    # Создадим в словаре пары ключ-значение\n",
        "    result[function.__name__] = function(int_list)\n",
        "  # Вернем созданный словарь\n",
        "  return result"
      ]
    },
    {
      "cell_type": "code",
      "source": [
        "# Проверка для функций min, max\n",
        "print(apply_all_func([6, 20, 15, 9], max, min))"
      ],
      "metadata": {
        "colab": {
          "base_uri": "https://localhost:8080/"
        },
        "id": "oBM-qrfYsqaS",
        "outputId": "9bc36b8f-7780-4d97-e71b-eef62685d5e3"
      },
      "execution_count": 2,
      "outputs": [
        {
          "output_type": "stream",
          "name": "stdout",
          "text": [
            "{'max': 20, 'min': 6}\n"
          ]
        }
      ]
    },
    {
      "cell_type": "code",
      "source": [
        "# Проверка для функций len, sum, sorted\n",
        "print(apply_all_func([6, 20, 15, 9], len, sum, sorted))"
      ],
      "metadata": {
        "colab": {
          "base_uri": "https://localhost:8080/"
        },
        "id": "wSBiOtJRs3jT",
        "outputId": "0ffcc721-26c1-498a-e445-a273b4686a8a"
      },
      "execution_count": 3,
      "outputs": [
        {
          "output_type": "stream",
          "name": "stdout",
          "text": [
            "{'len': 4, 'sum': 50, 'sorted': [6, 9, 15, 20]}\n"
          ]
        }
      ]
    },
    {
      "cell_type": "code",
      "source": [],
      "metadata": {
        "id": "noGFvvPHvPZC"
      },
      "execution_count": null,
      "outputs": []
    }
  ]
}