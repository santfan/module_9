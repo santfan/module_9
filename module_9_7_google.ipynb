{
  "nbformat": 4,
  "nbformat_minor": 0,
  "metadata": {
    "colab": {
      "provenance": [],
      "authorship_tag": "ABX9TyP+qWwwL0hd50ZalpsIFYDn",
      "include_colab_link": true
    },
    "kernelspec": {
      "name": "python3",
      "display_name": "Python 3"
    },
    "language_info": {
      "name": "python"
    }
  },
  "cells": [
    {
      "cell_type": "markdown",
      "metadata": {
        "id": "view-in-github",
        "colab_type": "text"
      },
      "source": [
        "<a href=\"https://colab.research.google.com/github/santfan/module_9/blob/main/module_9_7_google.ipynb\" target=\"_parent\"><img src=\"https://colab.research.google.com/assets/colab-badge.svg\" alt=\"Open In Colab\"/></a>"
      ]
    },
    {
      "cell_type": "markdown",
      "source": [
        "# Домашняя работа"
      ],
      "metadata": {
        "id": "RiuagO79ef2d"
      }
    },
    {
      "cell_type": "code",
      "source": [
        "# Функция декоратор\n",
        "def is_prime(func):\n",
        "    # Функция на лету\n",
        "    def control(*args):\n",
        "        # Принимаем декорируему функцию\n",
        "        sum_func = func(*args)\n",
        "        # Добавим функционал\n",
        "        for i in range(2, sum_func):\n",
        "            if sum_func % i == 0:\n",
        "                print('Число сотавное')\n",
        "                return sum_func\n",
        "            print('Число простое')\n",
        "            # Возврат изменной функции\n",
        "            return sum_func\n",
        "    # Возврат функции\n",
        "    return control\n",
        "\n",
        "@is_prime\n",
        "def sum_three(*args):\n",
        "  return sum(args)"
      ],
      "metadata": {
        "id": "dfs30gFEZYr-"
      },
      "execution_count": 2,
      "outputs": []
    },
    {
      "cell_type": "code",
      "source": [
        "# Проверка\n",
        "result = sum_three(2, 3, 6)\n",
        "print(result)"
      ],
      "metadata": {
        "colab": {
          "base_uri": "https://localhost:8080/"
        },
        "id": "mk_i4PuZewbN",
        "outputId": "694f6de8-a30d-431c-fe6e-8bdc6dffef8b"
      },
      "execution_count": 5,
      "outputs": [
        {
          "output_type": "stream",
          "name": "stdout",
          "text": [
            "Число простое\n",
            "11\n"
          ]
        }
      ]
    },
    {
      "cell_type": "markdown",
      "source": [
        "# Проработка лекции Декотраторы\n"
      ],
      "metadata": {
        "id": "dywJHmnJObVL"
      }
    },
    {
      "cell_type": "code",
      "execution_count": null,
      "metadata": {
        "id": "xXXcSDQ4OYHC"
      },
      "outputs": [],
      "source": [
        "# Создадим две функции одну из которой сделаем декораторм\n",
        "def null_decorator(func):\n",
        "  return func\n",
        "\n",
        "def greet():\n",
        "  return 'Hello'"
      ]
    },
    {
      "cell_type": "code",
      "source": [
        "# Декориррем функцию greet\n",
        "greet = null_decorator(greet)\n",
        "print(greet())"
      ],
      "metadata": {
        "colab": {
          "base_uri": "https://localhost:8080/"
        },
        "id": "XqkUHvl8PLp_",
        "outputId": "181bcbdc-5b75-4ec3-f3f1-f05c53f480f1"
      },
      "execution_count": null,
      "outputs": [
        {
          "output_type": "stream",
          "name": "stdout",
          "text": [
            "Hello\n"
          ]
        }
      ]
    },
    {
      "cell_type": "code",
      "source": [
        "# Можно сделать иначе\n",
        "def null_decorator(func):\n",
        "  return func"
      ],
      "metadata": {
        "id": "jjABmF0mPq9l"
      },
      "execution_count": null,
      "outputs": []
    },
    {
      "cell_type": "code",
      "source": [
        "@null_decorator\n",
        "def greet():\n",
        "  return 'Привет'"
      ],
      "metadata": {
        "id": "_1FAqYr4Q9qw"
      },
      "execution_count": null,
      "outputs": []
    },
    {
      "cell_type": "code",
      "source": [
        "print(greet())"
      ],
      "metadata": {
        "colab": {
          "base_uri": "https://localhost:8080/"
        },
        "id": "ru8s78YrRShk",
        "outputId": "66a86524-96db-411d-e472-1672f27cffb6"
      },
      "execution_count": null,
      "outputs": [
        {
          "output_type": "stream",
          "name": "stdout",
          "text": [
            "Привет\n"
          ]
        }
      ]
    },
    {
      "cell_type": "code",
      "source": [
        "# Измененние функционала\n",
        "def uppercase(func):\n",
        "  def wupper():\n",
        "    original_func = func()\n",
        "    modifi_func = original_func.upper()\n",
        "    return modifi_func\n",
        "  return wupper"
      ],
      "metadata": {
        "id": "D99VJeh0RXx1"
      },
      "execution_count": null,
      "outputs": []
    },
    {
      "cell_type": "code",
      "source": [
        "@uppercase\n",
        "def greet():\n",
        "  return 'hello'"
      ],
      "metadata": {
        "id": "wUXXT_VWTBkt"
      },
      "execution_count": null,
      "outputs": []
    },
    {
      "cell_type": "code",
      "source": [
        "print(greet())"
      ],
      "metadata": {
        "colab": {
          "base_uri": "https://localhost:8080/"
        },
        "id": "88LTj7nRTQ7O",
        "outputId": "7f4263c3-72c4-4cf1-cdcc-f6938fc9b5d8"
      },
      "execution_count": null,
      "outputs": [
        {
          "output_type": "stream",
          "name": "stdout",
          "text": [
            "HELLO\n"
          ]
        }
      ]
    },
    {
      "cell_type": "code",
      "source": [
        "import sys, time"
      ],
      "metadata": {
        "id": "CPW2kB29TU1M"
      },
      "execution_count": null,
      "outputs": []
    },
    {
      "cell_type": "code",
      "source": [
        "def time_track(func):\n",
        "  def surorgete(*args, **kwargs):\n",
        "    started_at = time.time()\n",
        "\n",
        "    result = func(*args, **kwargs)\n",
        "\n",
        "    ended_at = time.time()\n",
        "    elapsed = round(started_at - ended_at, 4)\n",
        "    print(f'Функция отработала {elapsed} секунд')\n",
        "    return result\n",
        "  return surorgete\n"
      ],
      "metadata": {
        "id": "TqklUPhkWV0m"
      },
      "execution_count": null,
      "outputs": []
    },
    {
      "cell_type": "code",
      "source": [
        "@time_track\n",
        "def digits(*args):\n",
        "  total = 1\n",
        "  for numbers in args:\n",
        "    total *= numbers ** 5000\n",
        "  return len(str(total))"
      ],
      "metadata": {
        "id": "gvYOzjmyYXow"
      },
      "execution_count": null,
      "outputs": []
    },
    {
      "cell_type": "code",
      "source": [
        "sys.set_int_max_str_digits(100000)\n",
        "result = digits(3141, 5926, 2718, 2818)\n",
        "print(result)"
      ],
      "metadata": {
        "colab": {
          "base_uri": "https://localhost:8080/"
        },
        "id": "WvM20xI4ZAzF",
        "outputId": "86972010-4eed-4385-a5d5-27cb90d852d8"
      },
      "execution_count": null,
      "outputs": [
        {
          "output_type": "stream",
          "name": "stdout",
          "text": [
            "Функция отработала -0.0927 секунд\n",
            "70771\n"
          ]
        }
      ]
    }
  ]
}