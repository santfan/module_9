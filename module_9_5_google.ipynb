{
  "nbformat": 4,
  "nbformat_minor": 0,
  "metadata": {
    "colab": {
      "provenance": [],
      "authorship_tag": "ABX9TyN5AjErca5wW4E0EtWy/4VW",
      "include_colab_link": true
    },
    "kernelspec": {
      "name": "python3",
      "display_name": "Python 3"
    },
    "language_info": {
      "name": "python"
    }
  },
  "cells": [
    {
      "cell_type": "markdown",
      "metadata": {
        "id": "view-in-github",
        "colab_type": "text"
      },
      "source": [
        "<a href=\"https://colab.research.google.com/github/santfan/module_9/blob/main/module_9_5_google.ipynb\" target=\"_parent\"><img src=\"https://colab.research.google.com/assets/colab-badge.svg\" alt=\"Open In Colab\"/></a>"
      ]
    },
    {
      "cell_type": "markdown",
      "source": [
        "# Домашняя работа"
      ],
      "metadata": {
        "id": "qri9VMN572Ww"
      }
    },
    {
      "cell_type": "code",
      "source": [
        "# Класс исключений\n",
        "class StepValueError(ValueError):\n",
        "  pass"
      ],
      "metadata": {
        "id": "viofTNco8Gbb"
      },
      "execution_count": 11,
      "outputs": []
    },
    {
      "cell_type": "code",
      "source": [
        "# Кдасс итератора\n",
        "class Iterator:\n",
        "  # Функция инициации параметров\n",
        "  def __init__(self, start, stop, step = 1):\n",
        "    self.start, self.stop, self.step, self.pointer = start, stop, step, start\n",
        "    # Проверка шага (не должен быть 0)\n",
        "    if self.step == 0:\n",
        "      # Вызов класса исключений\n",
        "      raise StepValueError\n",
        "  # Функция итератора\n",
        "  def __iter__(self):\n",
        "    self.pointer = self.start\n",
        "    return self\n",
        "  # Функция подбора следующего элемента\n",
        "  def __next__(self):\n",
        "    # Блок проверки условия окончная итерации\n",
        "    if self.step > 0 and self.pointer > self.stop:\n",
        "      raise StopIteration\n",
        "    elif self.step < 0 and self.pointer < self.stop:\n",
        "      raise StopIteration\n",
        "    # Если граничные условия не достигнуы\n",
        "    else:\n",
        "      # Точку уыеличиваем на величину шага\n",
        "      self.pointer += self.step\n",
        "      # Вернем значение\n",
        "      return self.pointer - self.step\n"
      ],
      "metadata": {
        "id": "xpU1L-iX82vE"
      },
      "execution_count": 12,
      "outputs": []
    },
    {
      "cell_type": "code",
      "source": [
        "# Протестируем ошибку ввода неверного шага\n",
        "try:\n",
        "    iter1 = Iterator(100, 200, 0)\n",
        "    for i in iter1:\n",
        "        print(i, end=' ')\n",
        "except StepValueError:\n",
        "    print('Шаг не может быть равен 0')"
      ],
      "metadata": {
        "colab": {
          "base_uri": "https://localhost:8080/"
        },
        "id": "wv8wrSxHAp1F",
        "outputId": "89e68b2c-b7df-49a7-fbb3-2908d2ac578c"
      },
      "execution_count": 13,
      "outputs": [
        {
          "output_type": "stream",
          "name": "stdout",
          "text": [
            "Шаг не может быть равен 0\n"
          ]
        }
      ]
    },
    {
      "cell_type": "code",
      "source": [
        "# Создадим объекты для тестирования итератора\n",
        "iter2 = Iterator(-5, 1)\n",
        "iter3 = Iterator(6, 15, 2)\n",
        "iter4 = Iterator(5, 1, -1)\n",
        "# Неверные параметры старт меньше стопа а шаг принят по дефолту т.е. 1\n",
        "# Итератор остановится так как условие self.step > 0 И self.pointer > self.stop\n",
        "# сразу вызовет raise\n",
        "iter5 = Iterator(10, 1)"
      ],
      "metadata": {
        "id": "AXFxo3-wA1TI"
      },
      "execution_count": 14,
      "outputs": []
    },
    {
      "cell_type": "code",
      "source": [
        "for i in iter2:\n",
        "    print(i, end=' ')\n",
        "print()\n",
        "for i in iter3:\n",
        "    print(i, end=' ')\n",
        "print()\n",
        "for i in iter4:\n",
        "    print(i, end=' ')\n",
        "print()\n",
        "for i in iter5:\n",
        "    print(i, end=' ')\n",
        "print()"
      ],
      "metadata": {
        "colab": {
          "base_uri": "https://localhost:8080/"
        },
        "id": "FX24Y4o9BCkI",
        "outputId": "780d8367-a7a9-48e6-954c-5ffcd2fc8c19"
      },
      "execution_count": 15,
      "outputs": [
        {
          "output_type": "stream",
          "name": "stdout",
          "text": [
            "-5 -4 -3 -2 -1 0 1 \n",
            "6 8 10 12 14 \n",
            "5 4 3 2 1 \n",
            "\n"
          ]
        }
      ]
    },
    {
      "cell_type": "markdown",
      "source": [
        "# Проработка лекции итераторы\n"
      ],
      "metadata": {
        "id": "h1-_ZXP6nJlg"
      }
    },
    {
      "cell_type": "code",
      "execution_count": 16,
      "metadata": {
        "id": "r7z2IitjnBQx"
      },
      "outputs": [],
      "source": [
        "# Необходимые библиотеки\n",
        "import sys\n",
        "from itertools import repeat"
      ]
    },
    {
      "cell_type": "code",
      "source": [
        "# Илюстрация эфективности использованя итераторов\n",
        "ex_iterator = repeat('4', 100000)\n",
        "print(ex_iterator)\n",
        "print(f'Размер созданного итератора - {sys.getsizeof(ex_iterator)}')"
      ],
      "metadata": {
        "colab": {
          "base_uri": "https://localhost:8080/"
        },
        "id": "hffWxwifn4A0",
        "outputId": "69c31461-37bf-47b0-bd32-6199a559cc1c"
      },
      "execution_count": 17,
      "outputs": [
        {
          "output_type": "stream",
          "name": "stdout",
          "text": [
            "repeat('4', 100000)\n",
            "Размер созданного итератора - 48\n"
          ]
        }
      ]
    },
    {
      "cell_type": "code",
      "source": [
        "# Создание строк без итератора\n",
        "ex_str = '4' * 100000\n",
        "print(f'Размер простой строки - {sys.getsizeof(ex_str)}')"
      ],
      "metadata": {
        "colab": {
          "base_uri": "https://localhost:8080/"
        },
        "id": "3DdDa4t6pkdc",
        "outputId": "5c392d6f-0993-406b-e22a-84ccad7dbf46"
      },
      "execution_count": 18,
      "outputs": [
        {
          "output_type": "stream",
          "name": "stdout",
          "text": [
            "Размер простой строки - 100049\n"
          ]
        }
      ]
    },
    {
      "cell_type": "code",
      "source": [
        "# Создадим собственный простейший итератор\n",
        "class Iter:\n",
        "\n",
        "  def __init__(self):\n",
        "    self.first = 'Первый элемент'\n",
        "    self.second = 'Второй элемент'\n",
        "    self.thrid = 'Третий элемент'\n",
        "    self.i = 0\n",
        "\n",
        "  def __iter__(self):\n",
        "    self.i = 0\n",
        "    return self\n",
        "\n",
        "  def __next__(self):\n",
        "    self.i += 1\n",
        "    if self.i == 1:\n",
        "      return self.first\n",
        "    if self.i == 2:\n",
        "      return self.second\n",
        "    if self.i == 3:\n",
        "      return self.thrid\n",
        "    if self.i == 4:\n",
        "      return 'Подсчет закончен'\n",
        "    raise StopIteration()"
      ],
      "metadata": {
        "id": "aGYV4n2aqREr"
      },
      "execution_count": 19,
      "outputs": []
    },
    {
      "cell_type": "code",
      "source": [
        "# Проверим как работает созданный итератор\n",
        "obj = Iter()\n",
        "\n",
        "for elem in obj:\n",
        "  print(elem)"
      ],
      "metadata": {
        "colab": {
          "base_uri": "https://localhost:8080/"
        },
        "id": "twEmNXldu-cq",
        "outputId": "8f427e41-a109-4cd9-8260-dc9ef0f9e080"
      },
      "execution_count": 20,
      "outputs": [
        {
          "output_type": "stream",
          "name": "stdout",
          "text": [
            "Первый элемент\n",
            "Второй элемент\n",
            "Третий элемент\n",
            "Подсчет закончен\n"
          ]
        }
      ]
    },
    {
      "cell_type": "code",
      "source": [
        "# Можно написать по другому\n",
        "obj = Iter()\n",
        "try:\n",
        "  while True:\n",
        "    element = obj.__next__()\n",
        "    print(element)\n",
        "except StopIteration:\n",
        "  print('Цикл завершил работу')\n"
      ],
      "metadata": {
        "colab": {
          "base_uri": "https://localhost:8080/"
        },
        "id": "GnRptxc8veeg",
        "outputId": "545a4158-e3cc-431f-c5d0-d3e124ad82f4"
      },
      "execution_count": 21,
      "outputs": [
        {
          "output_type": "stream",
          "name": "stdout",
          "text": [
            "Первый элемент\n",
            "Второй элемент\n",
            "Третий элемент\n",
            "Подсчет закончен\n",
            "Цикл завершил работу\n"
          ]
        }
      ]
    },
    {
      "cell_type": "code",
      "source": [
        "# Использование итераторов при вычислении чисел Фибоначи\n",
        "# Класика\n",
        "def fibonachi(n):\n",
        "  result = []\n",
        "  a, b = 0, 1\n",
        "  for _ in range(n):\n",
        "    result.append(a)\n",
        "    a, b = b, a + b\n",
        "  return result"
      ],
      "metadata": {
        "id": "QrupixqIyUPx"
      },
      "execution_count": 22,
      "outputs": []
    },
    {
      "cell_type": "code",
      "source": [
        "for elem in fibonachi(10):\n",
        "  print(elem)"
      ],
      "metadata": {
        "colab": {
          "base_uri": "https://localhost:8080/"
        },
        "id": "pqHswfuW0BXw",
        "outputId": "f5078254-0c11-42c4-ef4d-5933294d3d84"
      },
      "execution_count": 23,
      "outputs": [
        {
          "output_type": "stream",
          "name": "stdout",
          "text": [
            "0\n",
            "1\n",
            "1\n",
            "2\n",
            "3\n",
            "5\n",
            "8\n",
            "13\n",
            "21\n",
            "34\n"
          ]
        }
      ]
    },
    {
      "cell_type": "code",
      "source": [
        "# То же с использованием собственного итератора\n",
        "class Fibonacci:\n",
        "\n",
        "  def __init__(self, n):\n",
        "    self.a, self.b, self.n, self.i = 0, 1, n, 0\n",
        "\n",
        "  def __iter__(self):\n",
        "    self.i, self.a, self.b = 0, 0, 1\n",
        "    return self\n",
        "\n",
        "  def __next__(self):\n",
        "    self.i += 1\n",
        "    if self.i > 1:\n",
        "      if self.i > self.n:\n",
        "        raise StopIteration()\n",
        "      self.a, self.b = self.b, self.a + self.b\n",
        "\n",
        "    return self.a"
      ],
      "metadata": {
        "id": "NLAIzRlk0SP_"
      },
      "execution_count": 24,
      "outputs": []
    },
    {
      "cell_type": "code",
      "source": [
        "obj = Fibonacci(10)\n",
        "for elem in obj:\n",
        "  print(elem)"
      ],
      "metadata": {
        "colab": {
          "base_uri": "https://localhost:8080/"
        },
        "id": "C0f9PMj_34j3",
        "outputId": "ed22fb02-c379-404e-8664-0cb7dfc57250"
      },
      "execution_count": 25,
      "outputs": [
        {
          "output_type": "stream",
          "name": "stdout",
          "text": [
            "0\n",
            "1\n",
            "1\n",
            "2\n",
            "3\n",
            "5\n",
            "8\n",
            "13\n",
            "21\n",
            "34\n"
          ]
        }
      ]
    }
  ]
}