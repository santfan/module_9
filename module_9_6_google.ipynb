{
  "nbformat": 4,
  "nbformat_minor": 0,
  "metadata": {
    "colab": {
      "provenance": [],
      "collapsed_sections": [
        "5_IuwNSpueoN"
      ],
      "authorship_tag": "ABX9TyMHH06Csb+RhlO6p3h4VNex",
      "include_colab_link": true
    },
    "kernelspec": {
      "name": "python3",
      "display_name": "Python 3"
    },
    "language_info": {
      "name": "python"
    }
  },
  "cells": [
    {
      "cell_type": "markdown",
      "metadata": {
        "id": "view-in-github",
        "colab_type": "text"
      },
      "source": [
        "<a href=\"https://colab.research.google.com/github/santfan/module_9/blob/main/module_9_6_google.ipynb\" target=\"_parent\"><img src=\"https://colab.research.google.com/assets/colab-badge.svg\" alt=\"Open In Colab\"/></a>"
      ]
    },
    {
      "cell_type": "markdown",
      "source": [
        "# Домащняя работа по теме \"Функции-генераторы\""
      ],
      "metadata": {
        "id": "dyBe3gCduFOf"
      }
    },
    {
      "cell_type": "code",
      "source": [
        "# Стандартными методами задача решается так\n",
        "text = 'abc'\n",
        "for i in range(len(text)):\n",
        "    for j in range(len(text) - i):\n",
        "        print(text[j:j + i + 1])"
      ],
      "metadata": {
        "id": "IVDV5aQWuboe",
        "colab": {
          "base_uri": "https://localhost:8080/"
        },
        "outputId": "34b7af86-5d6e-42bd-89bb-fa79f583347f"
      },
      "execution_count": 1,
      "outputs": [
        {
          "output_type": "stream",
          "name": "stdout",
          "text": [
            "a\n",
            "b\n",
            "c\n",
            "ab\n",
            "bc\n",
            "abc\n"
          ]
        }
      ]
    },
    {
      "cell_type": "code",
      "source": [
        "# Обернем данный код в функцию\n",
        "def all_variants_1(text):\n",
        "    result = []\n",
        "    for i in range(len(text)):\n",
        "        for j in range(len(text) - i):\n",
        "            result.append(text[j:j + i + 1])\n",
        "    return result"
      ],
      "metadata": {
        "id": "SpyI-4gx9aCz"
      },
      "execution_count": 2,
      "outputs": []
    },
    {
      "cell_type": "code",
      "source": [
        "# и вызовем ее\n",
        "a = all_variants_1('abc')\n",
        "# В силу того что возвращается список распакуем его при выводе\n",
        "print(*a, sep='\\n')"
      ],
      "metadata": {
        "id": "zTT8kMi1CDRS",
        "colab": {
          "base_uri": "https://localhost:8080/"
        },
        "outputId": "fda0260d-f65b-4051-9c05-80ccc8552625"
      },
      "execution_count": 3,
      "outputs": [
        {
          "output_type": "stream",
          "name": "stdout",
          "text": [
            "a\n",
            "b\n",
            "c\n",
            "ab\n",
            "bc\n",
            "abc\n"
          ]
        }
      ]
    },
    {
      "cell_type": "code",
      "source": [
        "# Обратим данную функцию в функцию-генератор\n",
        "def all_variants_2(text):\n",
        "    for i in range(len(text)):\n",
        "        for j in range(len(text) - i):\n",
        "            yield text[j:j + i + 1]"
      ],
      "metadata": {
        "id": "NtS3TIyGCVRM"
      },
      "execution_count": 4,
      "outputs": []
    },
    {
      "cell_type": "code",
      "source": [
        "# Вызовем данную функцию\n",
        "a = all_variants_2(\"abc\")\n",
        "for i in a:\n",
        "    print(i)"
      ],
      "metadata": {
        "id": "W3NJGh5pBdnL",
        "colab": {
          "base_uri": "https://localhost:8080/"
        },
        "outputId": "4abef667-0370-4e46-d6c0-430f5475c128"
      },
      "execution_count": 5,
      "outputs": [
        {
          "output_type": "stream",
          "name": "stdout",
          "text": [
            "a\n",
            "b\n",
            "c\n",
            "ab\n",
            "bc\n",
            "abc\n"
          ]
        }
      ]
    },
    {
      "cell_type": "code",
      "source": [
        "# И наконец используя списковые сборки преобразуем нашу функцию-генератор\n",
        "def all_variants_3(text):\n",
        "    yield (text[j:j + i + 1] for i in range(len(text)) for j in range(len(text) - i))"
      ],
      "metadata": {
        "id": "galInhOwBnXf"
      },
      "execution_count": 6,
      "outputs": []
    },
    {
      "cell_type": "code",
      "source": [
        "# Вызовем функцию\n",
        "a = all_variants_3(\"abc\")\n",
        "for i in a:\n",
        "    # Следует учесть что списковая сборка возвращает список поэтому используем распаковку\n",
        "    print(*i, sep='\\n')"
      ],
      "metadata": {
        "colab": {
          "base_uri": "https://localhost:8080/"
        },
        "id": "CdGS5eGWHUD4",
        "outputId": "2079b870-0b99-4739-bbe5-5d0f66cc079f"
      },
      "execution_count": 7,
      "outputs": [
        {
          "output_type": "stream",
          "name": "stdout",
          "text": [
            "a\n",
            "b\n",
            "c\n",
            "ab\n",
            "bc\n",
            "abc\n"
          ]
        }
      ]
    }
  ]
}